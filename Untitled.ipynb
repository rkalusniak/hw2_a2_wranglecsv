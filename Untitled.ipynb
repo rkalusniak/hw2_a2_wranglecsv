{
 "cells": [
  {
   "cell_type": "code",
   "execution_count": 14,
   "id": "d4b0d61a-87b2-4cab-8cb8-3667f453956f",
   "metadata": {},
   "outputs": [],
   "source": [
    "import pandas as pd\n",
    "import csv\n",
    "from openpyxl import Workbook\n",
    "\n",
    "from pathlib import Path"
   ]
  },
  {
   "cell_type": "code",
   "execution_count": 16,
   "id": "25a43cad-d763-4903-a7c3-637a8e3b0849",
   "metadata": {},
   "outputs": [],
   "source": [
    "#Create the path to the data\n",
    "data_dir = Path('data', 'raw', 'logs')\n",
    "output_dir = Path('output')"
   ]
  },
  {
   "cell_type": "code",
   "execution_count": 6,
   "id": "bb202d28-95ef-4d71-bd85-d9d66454a921",
   "metadata": {},
   "outputs": [],
   "source": [
    "#Create dataframe of files to read\n",
    "filename = []\n",
    "stem = []\n",
    "\n",
    "#Get all the files in folder. Record file name and stem in list\n",
    "for f in data_dir.rglob('*.csv'):\n",
    "    filename.append(f.name)\n",
    "    stem.append(f.stem)\n",
    "\n",
    "#Create a dataframe of results\n",
    "files_df = pd.DataFrame({'filename': filename,\n",
    "                         'stem': stem})"
   ]
  },
  {
   "cell_type": "code",
   "execution_count": 7,
   "id": "12dcb7ae-a98f-4729-8c63-ab9598bbe70e",
   "metadata": {},
   "outputs": [
    {
     "data": {
      "text/plain": [
       "'BCM-E-tCenter-Shallow.csv'"
      ]
     },
     "execution_count": 7,
     "metadata": {},
     "output_type": "execute_result"
    }
   ],
   "source": [
    "files_df['filename'][2]"
   ]
  },
  {
   "cell_type": "code",
   "execution_count": 12,
   "id": "1606474d-3ceb-49bc-8c72-17b6f2db9e5c",
   "metadata": {},
   "outputs": [
    {
     "data": {
      "text/plain": [
       "'data/raw/logs/BCM-N-tRight-Shallow.csv'"
      ]
     },
     "execution_count": 12,
     "metadata": {},
     "output_type": "execute_result"
    }
   ],
   "source": [
    "Path(data_dir, files_df['filename'][i]).as_posix()"
   ]
  },
  {
   "cell_type": "code",
   "execution_count": 19,
   "id": "b9198aea-536f-4650-8b00-41a2e83201af",
   "metadata": {},
   "outputs": [],
   "source": [
    "wb = Workbook()\n",
    "xl_file = Path(output_dir, 'BCM.xlsx')\n",
    "#wb.save(xl_file)\n"
   ]
  },
  {
   "cell_type": "code",
   "execution_count": 18,
   "id": "68643177-fc6c-4262-bdf6-c82b1254b8fb",
   "metadata": {},
   "outputs": [
    {
     "data": {
      "text/plain": [
       "WindowsPath('output/BCM.xlsx')"
      ]
     },
     "execution_count": 18,
     "metadata": {},
     "output_type": "execute_result"
    }
   ],
   "source": [
    "xl_file"
   ]
  },
  {
   "cell_type": "code",
   "execution_count": 27,
   "id": "947409bf-2c3b-404b-a02f-aa6c22418b39",
   "metadata": {},
   "outputs": [
    {
     "name": "stdout",
     "output_type": "stream",
     "text": [
      "983\n",
      "=MIN(C2:C983)\n"
     ]
    }
   ],
   "source": [
    "#Write summary statistics to excel\n",
    "wb = openpyxl.load_workbook(xl_file)\n",
    "ws = wb[files_df['stem'][0]]\n",
    "\n",
    "ws_length = str(982 + 1)\n",
    "print(ws_length)\n",
    "print('=MIN(C2:C' + ws_length + ')')\n",
    "#ws['G2'].value = '=MIN(C2:C' + ws_length"
   ]
  },
  {
   "cell_type": "code",
   "execution_count": 38,
   "id": "222f6155-671f-4fe1-8a29-44abc8f769c2",
   "metadata": {},
   "outputs": [
    {
     "name": "stdout",
     "output_type": "stream",
     "text": [
      "<class 'pandas.core.frame.DataFrame'>\n",
      "RangeIndex: 1004 entries, 0 to 1003\n",
      "Data columns (total 3 columns):\n",
      " #   Column       Non-Null Count  Dtype         \n",
      "---  ------       --------------  -----         \n",
      " 0   datetime     1004 non-null   datetime64[ns]\n",
      " 1   scale        1004 non-null   object        \n",
      " 2   temperature  1004 non-null   float64       \n",
      "dtypes: datetime64[ns](1), float64(1), object(1)\n",
      "memory usage: 23.7+ KB\n"
     ]
    }
   ],
   "source": [
    "for f in data_dir.glob('*.csv'):\n",
    "\n",
    "    #Create a string with path from project folder and use as.posix to flip to forward slash.\n",
    "    strfile = Path(data_dir, f.name).as_posix()\n",
    "\n",
    "    #Read in csv file to dataframe\n",
    "    csv_df = pd.read_csv(strfile, header=None, names=['datetime', 'scale', 'temperature'],\n",
    "                         parse_dates=['datetime'])\n",
    "    \n",
    "csv_df.info()"
   ]
  },
  {
   "cell_type": "code",
   "execution_count": null,
   "id": "65874d16-6a3f-4ebf-a2e3-4e6184ae807d",
   "metadata": {},
   "outputs": [],
   "source": []
  }
 ],
 "metadata": {
  "kernelspec": {
   "display_name": "Python [conda env:aap]",
   "language": "python",
   "name": "conda-env-aap-py"
  },
  "language_info": {
   "codemirror_mode": {
    "name": "ipython",
    "version": 3
   },
   "file_extension": ".py",
   "mimetype": "text/x-python",
   "name": "python",
   "nbconvert_exporter": "python",
   "pygments_lexer": "ipython3",
   "version": "3.7.16"
  }
 },
 "nbformat": 4,
 "nbformat_minor": 5
}
